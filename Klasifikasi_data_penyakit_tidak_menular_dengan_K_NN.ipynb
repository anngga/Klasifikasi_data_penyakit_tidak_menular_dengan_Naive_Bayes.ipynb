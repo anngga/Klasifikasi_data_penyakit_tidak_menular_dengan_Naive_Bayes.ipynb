{
  "nbformat": 4,
  "nbformat_minor": 0,
  "metadata": {
    "colab": {
      "name": "Klasifikasi data penyakit tidak menular dengan K-NN.ipynb",
      "provenance": [],
      "collapsed_sections": [],
      "authorship_tag": "ABX9TyN+F16dQY69qt4MKJuYQELY",
      "include_colab_link": true
    },
    "kernelspec": {
      "name": "python3",
      "display_name": "Python 3"
    },
    "language_info": {
      "name": "python"
    }
  },
  "cells": [
    {
      "cell_type": "markdown",
      "metadata": {
        "id": "view-in-github",
        "colab_type": "text"
      },
      "source": [
        "<a href=\"https://colab.research.google.com/github/anngga/Klasifikasi_data_penyakit_tidak_menular_dengan_Naive_Bayes.ipynb/blob/main/Klasifikasi_data_penyakit_tidak_menular_dengan_K_NN.ipynb\" target=\"_parent\"><img src=\"https://colab.research.google.com/assets/colab-badge.svg\" alt=\"Open In Colab\"/></a>"
      ]
    },
    {
      "cell_type": "code",
      "metadata": {
        "id": "7zf8cBs8ffng"
      },
      "source": [
        "import numpy as np\n",
        "import matplotlib.pyplot as plt\n",
        "import pandas as pd"
      ],
      "execution_count": 1,
      "outputs": []
    },
    {
      "cell_type": "code",
      "metadata": {
        "id": "GhGcvsE5gKbK"
      },
      "source": [
        "dataset = pd.read_csv('data-penyakit-tidak-menular-berdasarkan-kecamatan-2019.csv')"
      ],
      "execution_count": 3,
      "outputs": []
    },
    {
      "cell_type": "markdown",
      "metadata": {
        "id": "k2_yjymNgLAJ"
      },
      "source": [
        "dataset.head() digunakan untuk melihat 5 data teratas"
      ]
    },
    {
      "cell_type": "code",
      "metadata": {
        "colab": {
          "base_uri": "https://localhost:8080/",
          "height": 204
        },
        "id": "wvppLbHfgN41",
        "outputId": "9667137e-8ef3-465c-ffce-5152e78e49f9"
      },
      "source": [
        "dataset.head()"
      ],
      "execution_count": 4,
      "outputs": [
        {
          "output_type": "execute_result",
          "data": {
            "text/html": [
              "<div>\n",
              "<style scoped>\n",
              "    .dataframe tbody tr th:only-of-type {\n",
              "        vertical-align: middle;\n",
              "    }\n",
              "\n",
              "    .dataframe tbody tr th {\n",
              "        vertical-align: top;\n",
              "    }\n",
              "\n",
              "    .dataframe thead th {\n",
              "        text-align: right;\n",
              "    }\n",
              "</style>\n",
              "<table border=\"1\" class=\"dataframe\">\n",
              "  <thead>\n",
              "    <tr style=\"text-align: right;\">\n",
              "      <th></th>\n",
              "      <th>Kecamatan</th>\n",
              "      <th>Hipertensi</th>\n",
              "      <th>Diabetes Mellitus</th>\n",
              "      <th>Rawat Inap</th>\n",
              "    </tr>\n",
              "  </thead>\n",
              "  <tbody>\n",
              "    <tr>\n",
              "      <th>0</th>\n",
              "      <td>Sukasari</td>\n",
              "      <td>4283</td>\n",
              "      <td>875</td>\n",
              "      <td>0</td>\n",
              "    </tr>\n",
              "    <tr>\n",
              "      <th>1</th>\n",
              "      <td>Sukajadi</td>\n",
              "      <td>7985</td>\n",
              "      <td>1369</td>\n",
              "      <td>1</td>\n",
              "    </tr>\n",
              "    <tr>\n",
              "      <th>2</th>\n",
              "      <td>Cicendo</td>\n",
              "      <td>2355</td>\n",
              "      <td>963</td>\n",
              "      <td>1</td>\n",
              "    </tr>\n",
              "    <tr>\n",
              "      <th>3</th>\n",
              "      <td>Andir</td>\n",
              "      <td>4004</td>\n",
              "      <td>1130</td>\n",
              "      <td>1</td>\n",
              "    </tr>\n",
              "    <tr>\n",
              "      <th>4</th>\n",
              "      <td>Cidadap</td>\n",
              "      <td>2126</td>\n",
              "      <td>453</td>\n",
              "      <td>0</td>\n",
              "    </tr>\n",
              "  </tbody>\n",
              "</table>\n",
              "</div>"
            ],
            "text/plain": [
              "  Kecamatan  Hipertensi  Diabetes Mellitus  Rawat Inap\n",
              "0  Sukasari        4283                875           0\n",
              "1  Sukajadi        7985               1369           1\n",
              "2   Cicendo        2355                963           1\n",
              "3     Andir        4004               1130           1\n",
              "4   Cidadap        2126                453           0"
            ]
          },
          "metadata": {
            "tags": []
          },
          "execution_count": 4
        }
      ]
    },
    {
      "cell_type": "markdown",
      "metadata": {
        "id": "i5W8w0mUgfPo"
      },
      "source": [
        "kita bagi ke dalam variabel x, dan variabel y.\n",
        "\n",
        "Untuk variabel x (reguler atribut) adalah kolom ke 2, dan kolom ke 3\n",
        "\n",
        "Untuk variabel y (label) adalah kolom terakhir (-1)\n",
        "\n",
        "//iloc digunakan untuk mengambil baris dan kolom"
      ]
    },
    {
      "cell_type": "code",
      "metadata": {
        "id": "RPl3Q6wrgg3m"
      },
      "source": [
        "x = dataset.iloc[:, [2,3]].values\n",
        "y = dataset.iloc[:, -1].values"
      ],
      "execution_count": 5,
      "outputs": []
    },
    {
      "cell_type": "code",
      "metadata": {
        "colab": {
          "base_uri": "https://localhost:8080/"
        },
        "id": "ROpUtdKzglwr",
        "outputId": "6439c53f-0b64-4bdb-afb5-c6fcae73382d"
      },
      "source": [
        "print(x)"
      ],
      "execution_count": 6,
      "outputs": [
        {
          "output_type": "stream",
          "text": [
            "[[ 875    0]\n",
            " [1369    1]\n",
            " [ 963    1]\n",
            " [1130    1]\n",
            " [ 453    0]\n",
            " [1053    1]\n",
            " [ 242    0]\n",
            " [ 234    1]\n",
            " [ 630    0]\n",
            " [1006    1]\n",
            " [ 330    1]\n",
            " [2493    1]\n",
            " [1049    0]\n",
            " [ 909    0]\n",
            " [ 499    0]\n",
            " [ 584    1]\n",
            " [ 878    0]\n",
            " [ 429    1]\n",
            " [ 829    1]\n",
            " [1164    0]\n",
            " [ 386    0]\n",
            " [1918    0]\n",
            " [ 386    0]\n",
            " [ 102    0]\n",
            " [ 317    0]\n",
            " [ 302    0]\n",
            " [ 759    1]\n",
            " [ 487    1]\n",
            " [ 758    1]\n",
            " [ 462    0]]\n"
          ],
          "name": "stdout"
        }
      ]
    },
    {
      "cell_type": "code",
      "metadata": {
        "colab": {
          "base_uri": "https://localhost:8080/"
        },
        "id": "BKuTE0vxgoQ4",
        "outputId": "c26590aa-e2d8-49e4-ad06-914347ff4a55"
      },
      "source": [
        "print(y)"
      ],
      "execution_count": 7,
      "outputs": [
        {
          "output_type": "stream",
          "text": [
            "[0 1 1 1 0 1 0 1 0 1 1 1 0 0 0 1 0 1 1 0 0 0 0 0 0 0 1 1 1 0]\n"
          ],
          "name": "stdout"
        }
      ]
    },
    {
      "cell_type": "markdown",
      "metadata": {
        "id": "wrzq6tcvguwm"
      },
      "source": [
        "kita bagi data training dan data testing nya"
      ]
    },
    {
      "cell_type": "code",
      "metadata": {
        "id": "-Jtva4zlgwHv"
      },
      "source": [
        "from sklearn.model_selection import train_test_split\n",
        "x_train, x_test, y_train, y_test = train_test_split(x, y, test_size = 0.25, random_state = 0)"
      ],
      "execution_count": 8,
      "outputs": []
    },
    {
      "cell_type": "markdown",
      "metadata": {
        "id": "KMZBrAzQg10V"
      },
      "source": [
        "setelah dibagi, jumlah x_train kurang lebih jadi 22"
      ]
    },
    {
      "cell_type": "code",
      "metadata": {
        "colab": {
          "base_uri": "https://localhost:8080/"
        },
        "id": "1LNy65ilg2up",
        "outputId": "75f9a912-2058-4b4b-bbaf-64bdfe724741"
      },
      "source": [
        "print(x_train)"
      ],
      "execution_count": 9,
      "outputs": [
        {
          "output_type": "stream",
          "text": [
            "[[ 429    1]\n",
            " [ 386    0]\n",
            " [1053    1]\n",
            " [ 878    0]\n",
            " [ 630    0]\n",
            " [ 499    0]\n",
            " [ 102    0]\n",
            " [ 386    0]\n",
            " [1369    1]\n",
            " [ 462    0]\n",
            " [ 242    0]\n",
            " [ 453    0]\n",
            " [ 829    1]\n",
            " [1164    0]\n",
            " [1006    1]\n",
            " [ 234    1]\n",
            " [ 302    0]\n",
            " [1130    1]\n",
            " [ 875    0]\n",
            " [1918    0]\n",
            " [ 584    1]\n",
            " [1049    0]]\n"
          ],
          "name": "stdout"
        }
      ]
    },
    {
      "cell_type": "markdown",
      "metadata": {
        "id": "WR1lTDCWg-dB"
      },
      "source": [
        "kita hitung jumlah x_train nya (untuk membuktikan)\n",
        "\n"
      ]
    },
    {
      "cell_type": "code",
      "metadata": {
        "colab": {
          "base_uri": "https://localhost:8080/"
        },
        "id": "RXpwjFjqg_JJ",
        "outputId": "25a05b27-b50e-4c33-8dd6-ef4da4920d09"
      },
      "source": [
        "len(x_train)"
      ],
      "execution_count": 10,
      "outputs": [
        {
          "output_type": "execute_result",
          "data": {
            "text/plain": [
              "22"
            ]
          },
          "metadata": {
            "tags": []
          },
          "execution_count": 10
        }
      ]
    },
    {
      "cell_type": "markdown",
      "metadata": {
        "id": "JA0Jc9J6hGki"
      },
      "source": [
        "untuk jumlah data keseluruhan pada variabel x, kurang lebih ada 30"
      ]
    },
    {
      "cell_type": "code",
      "metadata": {
        "colab": {
          "base_uri": "https://localhost:8080/"
        },
        "id": "gbBCQfD-hHh9",
        "outputId": "ca6aa79d-ca69-400d-82fd-bbe0d3387153"
      },
      "source": [
        "len(x)"
      ],
      "execution_count": 11,
      "outputs": [
        {
          "output_type": "execute_result",
          "data": {
            "text/plain": [
              "30"
            ]
          },
          "metadata": {
            "tags": []
          },
          "execution_count": 11
        }
      ]
    },
    {
      "cell_type": "markdown",
      "metadata": {
        "id": "qofuGdX0hRJx"
      },
      "source": [
        "kita hitung juga atribut x_testnya"
      ]
    },
    {
      "cell_type": "code",
      "metadata": {
        "id": "OED7VASjhQjs"
      },
      "source": [
        "len(x_test)"
      ],
      "execution_count": null,
      "outputs": []
    },
    {
      "cell_type": "markdown",
      "metadata": {
        "id": "2mO99CX0hXDG"
      },
      "source": [
        "Untuk jumlah total variabel y kurang lebih juga ada 30"
      ]
    },
    {
      "cell_type": "code",
      "metadata": {
        "colab": {
          "base_uri": "https://localhost:8080/"
        },
        "id": "qq_KGPSWhZMm",
        "outputId": "3e8d18e3-c8cd-4754-a439-69481f6b323d"
      },
      "source": [
        "len(y)"
      ],
      "execution_count": 12,
      "outputs": [
        {
          "output_type": "execute_result",
          "data": {
            "text/plain": [
              "30"
            ]
          },
          "metadata": {
            "tags": []
          },
          "execution_count": 12
        }
      ]
    },
    {
      "cell_type": "markdown",
      "metadata": {
        "id": "6p5VAcnShgGe"
      },
      "source": [
        "kita hitung jumlah data yang ada pada atribut y_test, kurang lebih ada 8 data"
      ]
    },
    {
      "cell_type": "code",
      "metadata": {
        "colab": {
          "base_uri": "https://localhost:8080/"
        },
        "id": "XmYy7J6Ohg-H",
        "outputId": "c67029fd-1947-4432-8d6a-04473bd3af2c"
      },
      "source": [
        "len(y_test)"
      ],
      "execution_count": 13,
      "outputs": [
        {
          "output_type": "execute_result",
          "data": {
            "text/plain": [
              "8"
            ]
          },
          "metadata": {
            "tags": []
          },
          "execution_count": 13
        }
      ]
    },
    {
      "cell_type": "markdown",
      "metadata": {
        "id": "utcLK-FLhsck"
      },
      "source": [
        "jumlah data pada atribut y_train setelah dibagi, total kurang lebih ada 22 data"
      ]
    },
    {
      "cell_type": "code",
      "metadata": {
        "colab": {
          "base_uri": "https://localhost:8080/"
        },
        "id": "ubjOGVGqhyRh",
        "outputId": "591ea13a-8fee-4bce-866f-40053766a54f"
      },
      "source": [
        "len(y_train)"
      ],
      "execution_count": 14,
      "outputs": [
        {
          "output_type": "execute_result",
          "data": {
            "text/plain": [
              "22"
            ]
          },
          "metadata": {
            "tags": []
          },
          "execution_count": 14
        }
      ]
    },
    {
      "cell_type": "markdown",
      "metadata": {
        "id": "dSZFn07Fh3w1"
      },
      "source": [
        "Karena jarak (skala) data yang ada pada variabel x terlalu besar(terlalu jauh), contohnya [429, ke 1], maka kita lakukan scaling menggunakan Standard Scaler"
      ]
    },
    {
      "cell_type": "code",
      "metadata": {
        "id": "-pbgsiiAh6lr"
      },
      "source": [
        "from sklearn.preprocessing import StandardScaler\n",
        "sc = StandardScaler()\n",
        "x_train = sc.fit_transform(x_train)\n",
        "x_test = sc.transform(x_test)"
      ],
      "execution_count": 15,
      "outputs": []
    },
    {
      "cell_type": "code",
      "metadata": {
        "colab": {
          "base_uri": "https://localhost:8080/"
        },
        "id": "MKRJZIaah_Ff",
        "outputId": "64328254-8000-425d-aa79-06abdcebbba7"
      },
      "source": [
        "print(x_train)"
      ],
      "execution_count": 16,
      "outputs": [
        {
          "output_type": "stream",
          "text": [
            "[[-0.68673547  1.32287566]\n",
            " [-0.78604024 -0.75592895]\n",
            " [ 0.75433829  1.32287566]\n",
            " [ 0.350191   -0.75592895]\n",
            " [-0.22254344 -0.75592895]\n",
            " [-0.52507656 -0.75592895]\n",
            " [-1.44191355 -0.75592895]\n",
            " [-0.78604024 -0.75592895]\n",
            " [ 1.48411283  1.32287566]\n",
            " [-0.61052484 -0.75592895]\n",
            " [-1.11859572 -0.75592895]\n",
            " [-0.63130956 -0.75592895]\n",
            " [ 0.23702976  1.32287566]\n",
            " [ 1.01068315 -0.75592895]\n",
            " [ 0.64579588  1.32287566]\n",
            " [-1.13707103  1.32287566]\n",
            " [-0.98003094 -0.75592895]\n",
            " [ 0.9321631   1.32287566]\n",
            " [ 0.34326276 -0.75592895]\n",
            " [ 2.75198061 -0.75592895]\n",
            " [-0.32877645  1.32287566]\n",
            " [ 0.74510064 -0.75592895]]\n"
          ],
          "name": "stdout"
        }
      ]
    },
    {
      "cell_type": "code",
      "metadata": {
        "colab": {
          "base_uri": "https://localhost:8080/"
        },
        "id": "ygc2vLnJiED9",
        "outputId": "19f1550a-838d-4c5c-afe6-432c5620472a"
      },
      "source": [
        "print(x_test)"
      ],
      "execution_count": 17,
      "outputs": [
        {
          "output_type": "stream",
          "text": [
            "[[ 0.54649112  1.32287566]\n",
            " [ 0.07306143  1.32287566]\n",
            " [ 0.42178281 -0.75592895]\n",
            " [-0.91536737  1.32287566]\n",
            " [ 0.07537085  1.32287566]\n",
            " [-0.94538974 -0.75592895]\n",
            " [-0.55278951  1.32287566]\n",
            " [ 4.07989314  1.32287566]]\n"
          ],
          "name": "stdout"
        }
      ]
    },
    {
      "cell_type": "markdown",
      "metadata": {
        "id": "OjIFZcfQiJ-t"
      },
      "source": [
        "panggil function K-NN nya, karena kita akan mengklasifikasi"
      ]
    },
    {
      "cell_type": "code",
      "metadata": {
        "colab": {
          "base_uri": "https://localhost:8080/"
        },
        "id": "3Tv8hCGiiOza",
        "outputId": "bbc9f3bb-fcb8-4178-b9d3-00ffcc1b501f"
      },
      "source": [
        "from sklearn.neighbors import KNeighborsClassifier\n",
        "classifier = KNeighborsClassifier(n_neighbors = 5, metric = 'minkowski', p=2)\n",
        "classifier.fit(x_train, y_train)"
      ],
      "execution_count": 18,
      "outputs": [
        {
          "output_type": "execute_result",
          "data": {
            "text/plain": [
              "KNeighborsClassifier(algorithm='auto', leaf_size=30, metric='minkowski',\n",
              "                     metric_params=None, n_jobs=None, n_neighbors=5, p=2,\n",
              "                     weights='uniform')"
            ]
          },
          "metadata": {
            "tags": []
          },
          "execution_count": 18
        }
      ]
    },
    {
      "cell_type": "markdown",
      "metadata": {
        "id": "agHinhRqiTt7"
      },
      "source": [
        "kita tentukan untuk prediksinya"
      ]
    },
    {
      "cell_type": "code",
      "metadata": {
        "id": "tfiz9PKDiUjJ"
      },
      "source": [
        "y_pred = classifier.predict(x_test)"
      ],
      "execution_count": 20,
      "outputs": []
    },
    {
      "cell_type": "markdown",
      "metadata": {
        "id": "XMd9xfOEifM0"
      },
      "source": [
        "hitung untuk evaluasi/validasinya menggunakan confusion_matrix."
      ]
    },
    {
      "cell_type": "code",
      "metadata": {
        "colab": {
          "base_uri": "https://localhost:8080/"
        },
        "id": "KI45zFxEiiAr",
        "outputId": "c446caf4-a56c-44ee-8dc7-eb94b4b84aa8"
      },
      "source": [
        "from sklearn.metrics import confusion_matrix\n",
        "cm = confusion_matrix(y_test, y_pred)\n",
        "print(cm)"
      ],
      "execution_count": 21,
      "outputs": [
        {
          "output_type": "stream",
          "text": [
            "[[2 0]\n",
            " [0 6]]\n"
          ],
          "name": "stdout"
        }
      ]
    },
    {
      "cell_type": "markdown",
      "metadata": {
        "id": "nqB4QWHnismK"
      },
      "source": [
        "gambarkan persebaran data trainingnya"
      ]
    },
    {
      "cell_type": "code",
      "metadata": {
        "colab": {
          "base_uri": "https://localhost:8080/",
          "height": 349
        },
        "id": "dQ7Bw1RKitD1",
        "outputId": "b0671405-80ea-4e6a-cc18-f8ee2ac7cdfc"
      },
      "source": [
        "from matplotlib.colors import ListedColormap\n",
        "x_set, y_set = x_train, y_train\n",
        "x1, x2 = np.meshgrid(np.arange(start=x_set[:, 0].min()-1, stop=x_set[:, 0].max()+1, step=0.01), \n",
        "                               np.arange(start=x_set[:, 1].min()-1, stop=x_set[:, 1].max()+1, step=0.01))\n",
        "plt.contourf(x1, x2, classifier.predict(np.array([x1.ravel(), x2.ravel()]).T).reshape(x1.shape),\n",
        "             alpha = 0.75, cmap = ListedColormap(('red', 'green')))\n",
        "plt.xlim(x1.min(), x1.max())\n",
        "plt.ylim(x2.min(), x2.max())\n",
        "for i, j in enumerate (np.unique(y_set)):\n",
        "  plt.scatter(x_set[y_set == j, 0], x_set[y_set == j, 1], \n",
        "              c = ListedColormap(('red', 'green'))(i), label = j)\n",
        "plt.title('Klasifikasi Data dengan K-NN (Data Training)')\n",
        "plt.xlabel('Umur')\n",
        "plt.ylabel('Estimasi Gaji')\n",
        "plt.legend()\n",
        "plt.show()"
      ],
      "execution_count": 22,
      "outputs": [
        {
          "output_type": "stream",
          "text": [
            "*c* argument looks like a single numeric RGB or RGBA sequence, which should be avoided as value-mapping will have precedence in case its length matches with *x* & *y*.  Please use the *color* keyword-argument or provide a 2-D array with a single row if you intend to specify the same RGB or RGBA value for all points.\n",
            "*c* argument looks like a single numeric RGB or RGBA sequence, which should be avoided as value-mapping will have precedence in case its length matches with *x* & *y*.  Please use the *color* keyword-argument or provide a 2-D array with a single row if you intend to specify the same RGB or RGBA value for all points.\n"
          ],
          "name": "stderr"
        },
        {
          "output_type": "display_data",
          "data": {
            "image/png": "[encoded data removed]",
            "text/plain": [
              "<Figure size 432x288 with 1 Axes>"
            ]
          },
          "metadata": {
            "tags": [],
            "needs_background": "light"
          }
        }
      ]
    },
    {
      "cell_type": "markdown",
      "metadata": {
        "id": "qFjIfakai1Xt"
      },
      "source": [
        "kita lihat persebaran data testingnya"
      ]
    },
    {
      "cell_type": "code",
      "metadata": {
        "colab": {
          "base_uri": "https://localhost:8080/",
          "height": 349
        },
        "id": "6OmwQdVOi1-_",
        "outputId": "44b7d19b-ee83-4155-ba07-6ee7f483d9cb"
      },
      "source": [
        "from matplotlib.colors import ListedColormap\n",
        "x_set, y_set = x_test, y_test\n",
        "x1, x2 = np.meshgrid(np.arange(start=x_set[:, 0].min()-1, stop=x_set[:, 0].max()+1, step=0.01), \n",
        "                               np.arange(start=x_set[:, 1].min()-1, stop=x_set[:, 1].max()+1, step=0.01))\n",
        "plt.contourf(x1, x2, classifier.predict(np.array([x1.ravel(), x2.ravel()]).T).reshape(x1.shape),\n",
        "             alpha = 0.75, cmap = ListedColormap(('red', 'green')))\n",
        "plt.xlim(x1.min(), x1.max())\n",
        "plt.ylim(x2.min(), x2.max())\n",
        "for i, j in enumerate (np.unique(y_set)):\n",
        "  plt.scatter(x_set[y_set == j, 0], x_set[y_set == j, 1], \n",
        "              c = ListedColormap(('red', 'green'))(i), label = j)\n",
        "plt.title('Klasifikasi Data dengan K-NN (Data Testing)')\n",
        "plt.xlabel('Umur')\n",
        "plt.ylabel('Estimasi Gaji')\n",
        "plt.legend()\n",
        "plt.show()"
      ],
      "execution_count": 23,
      "outputs": [
        {
          "output_type": "stream",
          "text": [
            "*c* argument looks like a single numeric RGB or RGBA sequence, which should be avoided as value-mapping will have precedence in case its length matches with *x* & *y*.  Please use the *color* keyword-argument or provide a 2-D array with a single row if you intend to specify the same RGB or RGBA value for all points.\n",
            "*c* argument looks like a single numeric RGB or RGBA sequence, which should be avoided as value-mapping will have precedence in case its length matches with *x* & *y*.  Please use the *color* keyword-argument or provide a 2-D array with a single row if you intend to specify the same RGB or RGBA value for all points.\n"
          ],
          "name": "stderr"
        },
        {
          "output_type": "display_data",
          "data": {
            "image/png": "[encoded data removed]",
            "text/plain": [
              "<Figure size 432x288 with 1 Axes>"
            ]
          },
          "metadata": {
            "tags": [],
            "needs_background": "light"
          }
        }
      ]
    }
  ]
}