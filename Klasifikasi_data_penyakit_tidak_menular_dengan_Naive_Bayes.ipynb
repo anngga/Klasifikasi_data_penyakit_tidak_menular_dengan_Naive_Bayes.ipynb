{
  "nbformat": 4,
  "nbformat_minor": 0,
  "metadata": {
    "colab": {
      "name": "Klasifikasi data penyakit tidak menular dengan Naive Bayes.ipynb",
      "provenance": [],
      "collapsed_sections": [],
      "authorship_tag": "ABX9TyO9+gWYYkogMNPASi3SDVit",
      "include_colab_link": true
    },
    "kernelspec": {
      "name": "python3",
      "display_name": "Python 3"
    },
    "language_info": {
      "name": "python"
    }
  },
  "cells": [
    {
      "cell_type": "markdown",
      "metadata": {
        "id": "view-in-github",
        "colab_type": "text"
      },
      "source": [
        "<a href=\"https://colab.research.google.com/github/anngga/Klasifikasi_data_penyakit_tidak_menular_dengan_Naive_Bayes.ipynb/blob/main/Klasifikasi_data_penyakit_tidak_menular_dengan_Naive_Bayes.ipynb\" target=\"_parent\"><img src=\"https://colab.research.google.com/assets/colab-badge.svg\" alt=\"Open In Colab\"/></a>"
      ]
    },
    {
      "cell_type": "code",
      "metadata": {
        "id": "T3yWzCTZcYuF"
      },
      "source": [
        "import numpy as np\n",
        "import matplotlib.pyplot as plt\n",
        "import pandas as pd"
      ],
      "execution_count": 20,
      "outputs": []
    },
    {
      "cell_type": "markdown",
      "metadata": {
        "id": "9bBYMLEFc3m4"
      },
      "source": [
        "Dataset yang kita gunakan pada variabel x adalah pada kolom 2 (hipertensi), dan 3 (diabetes mellitus) dari data yang ada pada excel.\n",
        "\n",
        "Dataset yang kita gunakan pada variabel y adalah pada kolom dari data yang ada pada excel."
      ]
    },
    {
      "cell_type": "code",
      "metadata": {
        "id": "g8hUlUrMc98v"
      },
      "source": [
        "dataset = pd.read_csv(\"data-penyakit-tidak-menular-berdasarkan-kecamatan-2019.csv\")\n",
        "x = dataset.iloc[:, [2,3]].values\n",
        "y = dataset.iloc[:, -1].values"
      ],
      "execution_count": 21,
      "outputs": []
    },
    {
      "cell_type": "code",
      "metadata": {
        "colab": {
          "base_uri": "https://localhost:8080/"
        },
        "id": "UTBZ-Z4gjFBI",
        "outputId": "f104cdea-bb83-4ee6-a916-c4cb35428a0c"
      },
      "source": [
        "print(x)"
      ],
      "execution_count": 22,
      "outputs": [
        {
          "output_type": "stream",
          "text": [
            "[[ 875    0]\n",
            " [1369    1]\n",
            " [ 963    1]\n",
            " [1130    1]\n",
            " [ 453    0]\n",
            " [1053    1]\n",
            " [ 242    0]\n",
            " [ 234    1]\n",
            " [ 630    0]\n",
            " [1006    1]\n",
            " [ 330    1]\n",
            " [2493    1]\n",
            " [1049    0]\n",
            " [ 909    0]\n",
            " [ 499    0]\n",
            " [ 584    1]\n",
            " [ 878    0]\n",
            " [ 429    1]\n",
            " [ 829    1]\n",
            " [1164    0]\n",
            " [ 386    0]\n",
            " [1918    0]\n",
            " [ 386    0]\n",
            " [ 102    0]\n",
            " [ 317    0]\n",
            " [ 302    0]\n",
            " [ 759    1]\n",
            " [ 487    1]\n",
            " [ 758    1]\n",
            " [ 462    0]]\n"
          ],
          "name": "stdout"
        }
      ]
    },
    {
      "cell_type": "markdown",
      "metadata": {
        "id": "Kvzvk47Hjc7L"
      },
      "source": [
        "variabel **y** untuk menyimpan label (rawat inap)"
      ]
    },
    {
      "cell_type": "code",
      "metadata": {
        "colab": {
          "base_uri": "https://localhost:8080/"
        },
        "id": "ComDA93cjg6s",
        "outputId": "56873e0b-d151-4764-dc09-2df2950bbae4"
      },
      "source": [
        "print(y)"
      ],
      "execution_count": 23,
      "outputs": [
        {
          "output_type": "stream",
          "text": [
            "[0 1 1 1 0 1 0 1 0 1 1 1 0 0 0 1 0 1 1 0 0 0 0 0 0 0 1 1 1 0]\n"
          ],
          "name": "stdout"
        }
      ]
    },
    {
      "cell_type": "markdown",
      "metadata": {
        "id": "VxEcaPU4kMYA"
      },
      "source": [
        "Kemudan kita pisahkan training & testing. Maka kita bisa buat 25%, jadi yang 3/4 digunakan untuk training, dan yang 1/4 atau 25% digunakan untuk testing"
      ]
    },
    {
      "cell_type": "code",
      "metadata": {
        "id": "1_hFXlpzkZgb"
      },
      "source": [
        "from sklearn.model_selection import train_test_split\n",
        "x_train, x_test, y_train, y_test = train_test_split(x, y, test_size=0.25, random_state=0)"
      ],
      "execution_count": 24,
      "outputs": []
    },
    {
      "cell_type": "code",
      "metadata": {
        "colab": {
          "base_uri": "https://localhost:8080/"
        },
        "id": "CTPjpXzGkfaL",
        "outputId": "7e8b0d35-1ee0-4bb0-8849-761c69bade46"
      },
      "source": [
        "print(x_train)"
      ],
      "execution_count": 25,
      "outputs": [
        {
          "output_type": "stream",
          "text": [
            "[[ 429    1]\n",
            " [ 386    0]\n",
            " [1053    1]\n",
            " [ 878    0]\n",
            " [ 630    0]\n",
            " [ 499    0]\n",
            " [ 102    0]\n",
            " [ 386    0]\n",
            " [1369    1]\n",
            " [ 462    0]\n",
            " [ 242    0]\n",
            " [ 453    0]\n",
            " [ 829    1]\n",
            " [1164    0]\n",
            " [1006    1]\n",
            " [ 234    1]\n",
            " [ 302    0]\n",
            " [1130    1]\n",
            " [ 875    0]\n",
            " [1918    0]\n",
            " [ 584    1]\n",
            " [1049    0]]\n"
          ],
          "name": "stdout"
        }
      ]
    },
    {
      "cell_type": "code",
      "metadata": {
        "colab": {
          "base_uri": "https://localhost:8080/"
        },
        "id": "5hYlmiVtko1f",
        "outputId": "b7d4a1bc-b647-44f2-9cac-08e176c2cdea"
      },
      "source": [
        "print(x_test)"
      ],
      "execution_count": 26,
      "outputs": [
        {
          "output_type": "stream",
          "text": [
            "[[ 963    1]\n",
            " [ 758    1]\n",
            " [ 909    0]\n",
            " [ 330    1]\n",
            " [ 759    1]\n",
            " [ 317    0]\n",
            " [ 487    1]\n",
            " [2493    1]]\n"
          ],
          "name": "stdout"
        }
      ]
    },
    {
      "cell_type": "markdown",
      "metadata": {
        "id": "m99fCxWZkxz3"
      },
      "source": [
        "kurang lebih ada"
      ]
    },
    {
      "cell_type": "code",
      "metadata": {
        "colab": {
          "base_uri": "https://localhost:8080/"
        },
        "id": "4imlaeVMkzLW",
        "outputId": "3de73db1-f267-4454-b8df-e44628650197"
      },
      "source": [
        "print(y_train)"
      ],
      "execution_count": 27,
      "outputs": [
        {
          "output_type": "stream",
          "text": [
            "[1 0 1 0 0 0 0 0 1 0 0 0 1 0 1 1 0 1 0 0 1 0]\n"
          ],
          "name": "stdout"
        }
      ]
    },
    {
      "cell_type": "markdown",
      "metadata": {
        "id": "VBzlL9ylk6ei"
      },
      "source": [
        "kurang lebih pada y_test ada 7 data, karena 25% dari jumlah semua data (31 data)\n",
        "\n"
      ]
    },
    {
      "cell_type": "code",
      "metadata": {
        "colab": {
          "base_uri": "https://localhost:8080/"
        },
        "id": "Mw1EtPYfk7yL",
        "outputId": "132c7163-974d-4f75-cd5b-17db2560d1b4"
      },
      "source": [
        "print(y_test)"
      ],
      "execution_count": 28,
      "outputs": [
        {
          "output_type": "stream",
          "text": [
            "[1 1 0 1 1 0 1 1]\n"
          ],
          "name": "stdout"
        }
      ]
    },
    {
      "cell_type": "markdown",
      "metadata": {
        "id": "5z7epErAlOYt"
      },
      "source": [
        "karena jarak 429 -ke- 1 terlalu besar interval/jaraknya [pada x_train, dan x_test] maka kita perlu skalar, kita buat standard scaler"
      ]
    },
    {
      "cell_type": "code",
      "metadata": {
        "id": "5AAdhfvClPe2"
      },
      "source": [
        "from sklearn.preprocessing import StandardScaler\n",
        "sc = StandardScaler()\n",
        "x_train = sc.fit_transform(x_train)\n",
        "x_test = sc.transform(x_test)"
      ],
      "execution_count": 29,
      "outputs": []
    },
    {
      "cell_type": "code",
      "metadata": {
        "colab": {
          "base_uri": "https://localhost:8080/"
        },
        "id": "lFeTW7CilVDs",
        "outputId": "dd8f0440-93c1-4dbf-ef2c-ed904d635863"
      },
      "source": [
        "print(x_train)"
      ],
      "execution_count": 30,
      "outputs": [
        {
          "output_type": "stream",
          "text": [
            "[[-0.68673547  1.32287566]\n",
            " [-0.78604024 -0.75592895]\n",
            " [ 0.75433829  1.32287566]\n",
            " [ 0.350191   -0.75592895]\n",
            " [-0.22254344 -0.75592895]\n",
            " [-0.52507656 -0.75592895]\n",
            " [-1.44191355 -0.75592895]\n",
            " [-0.78604024 -0.75592895]\n",
            " [ 1.48411283  1.32287566]\n",
            " [-0.61052484 -0.75592895]\n",
            " [-1.11859572 -0.75592895]\n",
            " [-0.63130956 -0.75592895]\n",
            " [ 0.23702976  1.32287566]\n",
            " [ 1.01068315 -0.75592895]\n",
            " [ 0.64579588  1.32287566]\n",
            " [-1.13707103  1.32287566]\n",
            " [-0.98003094 -0.75592895]\n",
            " [ 0.9321631   1.32287566]\n",
            " [ 0.34326276 -0.75592895]\n",
            " [ 2.75198061 -0.75592895]\n",
            " [-0.32877645  1.32287566]\n",
            " [ 0.74510064 -0.75592895]]\n"
          ],
          "name": "stdout"
        }
      ]
    },
    {
      "cell_type": "code",
      "metadata": {
        "colab": {
          "base_uri": "https://localhost:8080/"
        },
        "id": "QLHVlNKzlbDl",
        "outputId": "42a70e16-db04-41b7-e832-5cda16e84116"
      },
      "source": [
        "print(x_test)"
      ],
      "execution_count": 31,
      "outputs": [
        {
          "output_type": "stream",
          "text": [
            "[[ 0.54649112  1.32287566]\n",
            " [ 0.07306143  1.32287566]\n",
            " [ 0.42178281 -0.75592895]\n",
            " [-0.91536737  1.32287566]\n",
            " [ 0.07537085  1.32287566]\n",
            " [-0.94538974 -0.75592895]\n",
            " [-0.55278951  1.32287566]\n",
            " [ 4.07989314  1.32287566]]\n"
          ],
          "name": "stdout"
        }
      ]
    },
    {
      "cell_type": "markdown",
      "metadata": {
        "id": "DqIj6ZSqljol"
      },
      "source": [
        "untuk memanggil (NB)Naive Bayes nya. Import function Gaussian, karena bentuk datanya numerik. Kita simpan ke dalam variabel classifier"
      ]
    },
    {
      "cell_type": "code",
      "metadata": {
        "colab": {
          "base_uri": "https://localhost:8080/"
        },
        "id": "H5lnLzcVllfE",
        "outputId": "ed30ea10-3be4-4525-b485-4f7265fafe8a"
      },
      "source": [
        "from sklearn.naive_bayes import GaussianNB\n",
        "classifier = GaussianNB()\n",
        "classifier.fit(x_train, y_train)"
      ],
      "execution_count": 32,
      "outputs": [
        {
          "output_type": "execute_result",
          "data": {
            "text/plain": [
              "GaussianNB(priors=None, var_smoothing=1e-09)"
            ]
          },
          "metadata": {
            "tags": []
          },
          "execution_count": 32
        }
      ]
    },
    {
      "cell_type": "markdown",
      "metadata": {
        "id": "BKgVv9fdlvat"
      },
      "source": [
        "Lalu kita hitung prediksinya(nilai prediksinya), yang kita prediksi labelnya (data dari x_test)"
      ]
    },
    {
      "cell_type": "code",
      "metadata": {
        "id": "10jA9UWalw6g"
      },
      "source": [
        "y_pred = classifier.predict(x_test)"
      ],
      "execution_count": 33,
      "outputs": []
    },
    {
      "cell_type": "markdown",
      "metadata": {
        "id": "SMSnrWxzl5g9"
      },
      "source": [
        "mengevaluasi model prediksi, berapakah nilai ke-akuratannya (nilai akurasinya)"
      ]
    },
    {
      "cell_type": "code",
      "metadata": {
        "colab": {
          "base_uri": "https://localhost:8080/"
        },
        "id": "HyTtScAvl92K",
        "outputId": "cf135673-c5f2-446b-a56e-262cacb8dd3a"
      },
      "source": [
        "from sklearn.metrics import confusion_matrix\n",
        "cm = confusion_matrix(y_test, y_pred)\n",
        "print(cm)"
      ],
      "execution_count": 34,
      "outputs": [
        {
          "output_type": "stream",
          "text": [
            "[[2 0]\n",
            " [0 6]]\n"
          ],
          "name": "stdout"
        }
      ]
    },
    {
      "cell_type": "markdown",
      "metadata": {
        "id": "ICurECKbmGUT"
      },
      "source": [
        "kita ingin membuat persebaran data dari klasifikasi data naive bayes, tapi yang kita sebarkan adalah dari data x_train & data y_train nya.\n",
        "\n",
        "Jadi dari atribut x_train adalah atribut : Hipertensi (kolom ke-0) dan Diabetes Mellitus (kolom ke-1), sehingga kita pisahkan menjadi x1 dengan x2 (jadi atribut x_train dibagi dua). Lalu kita buat contourf, dimana nanti kita pisahkan warnanya untuk label yang pertama berwarna 'red', dan label yang kedua berwarna 'green'\n",
        "\n",
        "//Function scatter digunakan untuk persebaran data\n",
        "\n",
        "*keterangan:\n",
        "\n",
        "x = atribut (hipertensi, diabetes mellitus) y = labelnya (rawat inap) 0 = no (tidak dirawat inap) 1 = yes (dirawat inap)"
      ]
    },
    {
      "cell_type": "code",
      "metadata": {
        "colab": {
          "base_uri": "https://localhost:8080/",
          "height": 349
        },
        "id": "4OpohM6tmJoS",
        "outputId": "8411efb7-1c7d-431c-9e21-ae2ab93cb673"
      },
      "source": [
        "from matplotlib.colors import ListedColormap\n",
        "x_set, y_set = x_train, y_train\n",
        "x1, x2 = np.meshgrid(np.arange(start = x_set[:, 0].min()-1, stop = x_set[:, 0].max() + 1, step=0.01),\n",
        "                     np.arange(start = x_set[:, 1].min()-1, stop = x_set[:, 0].max() + 1, step=0.01))\n",
        "plt.contourf(x1,x2, classifier.predict(np.array([x1.ravel(), x2.ravel()]).T).reshape(x1.shape),\n",
        "             alpha = 0.75, cmap = ListedColormap(('red', 'green')))\n",
        "plt.xlim(x1.min(), x1.max())\n",
        "plt.ylim(x2.min(), x2.max())\n",
        "for i,j in enumerate (np.unique(y_set)):\n",
        "  plt.scatter(x_set[y_set == j, 0], x_set[y_set==j, 1], \n",
        "              c = ListedColormap(('red', 'green'))(i), label = j)\n",
        "plt.title('Klasifikasi Data dengan Naive Bayes (Data Training)')\n",
        "plt.xlabel('Hipertensi')\n",
        "plt.ylabel('Diabetes Mellitus')\n",
        "plt.legend()\n",
        "plt.show()"
      ],
      "execution_count": 35,
      "outputs": [
        {
          "output_type": "stream",
          "text": [
            "*c* argument looks like a single numeric RGB or RGBA sequence, which should be avoided as value-mapping will have precedence in case its length matches with *x* & *y*.  Please use the *color* keyword-argument or provide a 2-D array with a single row if you intend to specify the same RGB or RGBA value for all points.\n",
            "*c* argument looks like a single numeric RGB or RGBA sequence, which should be avoided as value-mapping will have precedence in case its length matches with *x* & *y*.  Please use the *color* keyword-argument or provide a 2-D array with a single row if you intend to specify the same RGB or RGBA value for all points.\n"
          ],
          "name": "stderr"
        },
        {
          "output_type": "display_data",
          "data": {
            "image/png": "[encoded data removed]",
            "text/plain": [
              "<Figure size 432x288 with 1 Axes>"
            ]
          },
          "metadata": {
            "tags": [],
            "needs_background": "light"
          }
        }
      ]
    },
    {
      "cell_type": "markdown",
      "metadata": {
        "id": "MShoqF9jmS68"
      },
      "source": [
        "kita ingin menggambarkan (persebaran data) x_test dengan y_test nya"
      ]
    },
    {
      "cell_type": "code",
      "metadata": {
        "colab": {
          "base_uri": "https://localhost:8080/",
          "height": 349
        },
        "id": "8Gg__-KVmXGh",
        "outputId": "93413ad3-adf3-48ea-b3d1-42760cc6b918"
      },
      "source": [
        "from matplotlib.colors import ListedColormap\n",
        "x_set, y_set = x_test, y_test\n",
        "x1, x2 = np.meshgrid(np.arange(start = x_set[:, 0].min()-1, stop = x_set[:, 0].max() + 1, step=0.01),\n",
        "                     np.arange(start = x_set[:, 1].min()-1, stop = x_set[:, 0].max() + 1, step=0.01))\n",
        "plt.contourf(x1,x2, classifier.predict(np.array([x1.ravel(), x2.ravel()]).T).reshape(x1.shape),\n",
        "             alpha = 0.75, cmap = ListedColormap(('red', 'green')))\n",
        "plt.xlim(x1.min(), x1.max())\n",
        "plt.ylim(x2.min(), x2.max())\n",
        "for i,j in enumerate (np.unique(y_set)):\n",
        "  plt.scatter(x_set[y_set == j, 0], x_set[y_set==j, 1], \n",
        "              c = ListedColormap(('red', 'green'))(i), label = j)\n",
        "plt.title('Klasifikasi Data dengan Naive Bayes (Data Training)')\n",
        "plt.xlabel('Hipertensi')\n",
        "plt.ylabel('Diabetes Mellitus')\n",
        "plt.legend()\n",
        "plt.show()"
      ],
      "execution_count": 36,
      "outputs": [
        {
          "output_type": "stream",
          "text": [
            "*c* argument looks like a single numeric RGB or RGBA sequence, which should be avoided as value-mapping will have precedence in case its length matches with *x* & *y*.  Please use the *color* keyword-argument or provide a 2-D array with a single row if you intend to specify the same RGB or RGBA value for all points.\n",
            "*c* argument looks like a single numeric RGB or RGBA sequence, which should be avoided as value-mapping will have precedence in case its length matches with *x* & *y*.  Please use the *color* keyword-argument or provide a 2-D array with a single row if you intend to specify the same RGB or RGBA value for all points.\n"
          ],
          "name": "stderr"
        },
        {
          "output_type": "display_data",
          "data": {
            "image/png": "[encoded data removed]",
            "text/plain": [
              "<Figure size 432x288 with 1 Axes>"
            ]
          },
          "metadata": {
            "tags": [],
            "needs_background": "light"
          }
        }
      ]
    }
  ]
}